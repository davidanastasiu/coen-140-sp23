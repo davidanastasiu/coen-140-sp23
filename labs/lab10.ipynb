{
  "nbformat": 4,
  "nbformat_minor": 0,
  "metadata": {
    "colab": {
      "provenance": []
    },
    "kernelspec": {
      "name": "python3",
      "display_name": "Python 3"
    },
    "language_info": {
      "name": "python"
    }
  },
  "cells": [
    {
      "cell_type": "markdown",
      "source": [
        "# Feed Forward Neural Network"
      ],
      "metadata": {
        "id": "Iwm55R6tRA88"
      }
    },
    {
      "cell_type": "code",
      "execution_count": null,
      "metadata": {
        "id": "PyoR4baDP6yi"
      },
      "outputs": [],
      "source": [
        "# Importing libraries and dataset\n",
        "import torch\n",
        "import numpy as np\n",
        "import matplotlib.pyplot as plt\n",
        "import torch\n",
        "import numpy as np\n",
        "from sklearn.datasets import load_diabetes\n",
        "from torch.utils.data import Dataset, DataLoader\n",
        "from torch import nn"
      ]
    },
    {
      "cell_type": "code",
      "source": [
        "# Loading the dataset\n",
        "data = load_diabetes()\n",
        "x = data['data']\n",
        "y = data['target']"
      ],
      "metadata": {
        "id": "j3oKz-TFRbA_"
      },
      "execution_count": null,
      "outputs": []
    },
    {
      "cell_type": "code",
      "source": [
        "# Print the shape\n",
        "print('shape of x is : ',x.shape)\n",
        "print('shape of y is : ',y.shape)"
      ],
      "metadata": {
        "colab": {
          "base_uri": "https://localhost:8080/"
        },
        "id": "DM5hwFaDRvXb",
        "outputId": "a4905504-952a-4394-af53-9feff6c5b7a4"
      },
      "execution_count": null,
      "outputs": [
        {
          "output_type": "stream",
          "name": "stdout",
          "text": [
            "shape of x is :  (442, 10)\n",
            "shape of y is :  (442,)\n"
          ]
        }
      ]
    },
    {
      "cell_type": "markdown",
      "source": [
        "Dataset and dataloaders\n",
        "\n",
        "In PyTorch, the class dataset covers the data in a tuple so as to make each data of the index accessible during training. \n",
        "\n",
        "In order to shuffle and apply Mini-Batch Gradient Descent or stochastic gradient descent it is necessary to create dataloader class."
      ],
      "metadata": {
        "id": "WBuryzTWR4oH"
      }
    },
    {
      "cell_type": "code",
      "source": [
        "class inputdataset(Dataset):\n",
        "  def __init__(self,x,y):\n",
        "    # initialize the x and y of the dataset and convert them to tensors\n",
        "    self.x = torch.tensor(x,dtype=torch.float32)\n",
        "    self.y = torch.tensor(y,dtype=torch.float32)\n",
        "    self.length = self.x.shape[0]\n",
        "\n",
        "  def __getitem__(self,idx):\n",
        "    # return a particular index (both x and y value) in the dataset\n",
        "    return self.x[idx],self.y[idx]\n",
        "\n",
        "  def __len__(self):\n",
        "    # return the size of the dataset\n",
        "    return self.length"
      ],
      "metadata": {
        "id": "kzVxiO_2Rzll"
      },
      "execution_count": null,
      "outputs": []
    },
    {
      "cell_type": "code",
      "source": [
        "dataset = inputdataset(x,y)"
      ],
      "metadata": {
        "id": "tg0gFCDFT_n6"
      },
      "execution_count": null,
      "outputs": []
    },
    {
      "cell_type": "code",
      "source": [
        "dataloader = DataLoader(dataset=dataset,shuffle=True,batch_size=100)"
      ],
      "metadata": {
        "id": "qcggQ4QrUE2w"
      },
      "execution_count": null,
      "outputs": []
    },
    {
      "cell_type": "markdown",
      "source": [
        "Create the Neural Network\n",
        "\n",
        "In PyTorch, neural networks are created by using Object Oriented Programming.\n",
        "\n",
        "The Functions are possible because of the class nn.Module from torch which was inherited.\n"
      ],
      "metadata": {
        "id": "46O7u2ZCU4zj"
      }
    },
    {
      "cell_type": "code",
      "source": [
        "class net(nn.Module):\n",
        "  def __init__(self,input_size,output_size):     # defining the layers \n",
        "    super(net,self).__init__()\n",
        "    self.l1 = nn.Linear(input_size,5)\n",
        "    self.relu = nn.ReLU()\n",
        "    self.l2 = nn.Linear(5,output_size)\n",
        "\n",
        "  def forward(self,x):    # defining the forward pass which is invoked automatically when the class is called\n",
        "    output = self.l1(x) \n",
        "    output = self.relu(output)\n",
        "    output = self.l2(output)\n",
        "    return output"
      ],
      "metadata": {
        "id": "mTJbGp1OUpuS"
      },
      "execution_count": null,
      "outputs": []
    },
    {
      "cell_type": "code",
      "source": [
        "# Define parameters\n",
        "model = net(x.shape[1],1)\n",
        "criterion = nn.MSELoss()    # Mean Squared Loss because this is a regression problem\n",
        "optimizer = torch.optim.SGD(model.parameters(),lr=0.001)    # takes in weights and biases of the network and learning rate\n",
        "                                                              # weights are updated accordingly\n",
        "epochs = 1500   # Number of iterations for training"
      ],
      "metadata": {
        "id": "vKCL9nU2WNax"
      },
      "execution_count": null,
      "outputs": []
    },
    {
      "cell_type": "markdown",
      "source": [
        "The trained model is used to predict the values of the same inputs."
      ],
      "metadata": {
        "id": "CZt843clZPGX"
      }
    },
    {
      "cell_type": "code",
      "source": [
        "cost_value = []\n",
        "loss_values = []\n",
        "\n",
        "for j in range(epochs):\n",
        "  for i,(x_train,y_train) in enumerate(dataloader):\n",
        "    #prediction\n",
        "    y_pred = model(x_train)\n",
        "    \n",
        "    #calculating loss\n",
        "    cost = criterion(y_pred,y_train.reshape(-1,1))\n",
        "    #loss.append(cost)\n",
        "    \n",
        "    #backprop\n",
        "    optimizer.zero_grad()\n",
        "    cost.backward()\n",
        "    optimizer.step()\n",
        "\n",
        "  if j%50 == 0:\n",
        "    #print(cost)\n",
        "    cost_value.append(cost)\n",
        "  \n",
        "#loss_values.append(cost_value / len(x_train))"
      ],
      "metadata": {
        "id": "OcvSHE16X5xI"
      },
      "execution_count": null,
      "outputs": []
    },
    {
      "cell_type": "markdown",
      "source": [
        "The predicted values are plotted against the actual values. With this plot, we can see that the predicted and actual are almost similar even though there are some errors."
      ],
      "metadata": {
        "id": "rsITt7bsZ2l9"
      }
    },
    {
      "cell_type": "code",
      "source": [
        "x = y_pred.detach().numpy()\n",
        "y = y_train.detach().numpy()\n",
        "plt.scatter(x, y, color = \"blue\")\n",
        "plt.xlabel(\"y_pred vs y_test\")\n",
        "plt.show()"
      ],
      "metadata": {
        "colab": {
          "base_uri": "https://localhost:8080/",
          "height": 450
        },
        "id": "TrlJPLgQPzzn",
        "outputId": "cf407241-e766-4d6a-9b20-01c1ca46100e"
      },
      "execution_count": null,
      "outputs": [
        {
          "output_type": "display_data",
          "data": {
            "text/plain": [
              "<Figure size 640x480 with 1 Axes>"
            ],
            "image/png": "[encoded data removed]"
          },
          "metadata": {}
        }
      ]
    },
    {
      "cell_type": "markdown",
      "source": [
        "### References\n",
        "1. https://pytorch.org/tutorials/beginner/blitz/neural_networks_tutorial.html\n",
        "2. https://pytorch.org/tutorials/beginner/basics/data_tutorial.html\n",
        "3. https://pytorch.org/tutorials/beginner/data_loading_tutorial.html\n",
        "4. https://pytorch.org/vision/stable/datasets.html"
      ],
      "metadata": {
        "id": "l0N9s6M1ROpC"
      }
    },
    {
      "cell_type": "markdown",
      "source": [
        "# TASK : MNSIT Digit Recognizer\n",
        "\n",
        "1. Implement multilayer neural network that can do digit classification based on the famous MNIST dataset.\n",
        "2. Predict the accuracy on 10000 test images.\n"
      ],
      "metadata": {
        "id": "sqaWyHRvaaaV"
      }
    },
    {
      "cell_type": "code",
      "source": [],
      "metadata": {
        "id": "NZqrNBL6Jiqw"
      },
      "execution_count": null,
      "outputs": []
    }
  ]
}